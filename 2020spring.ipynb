{
  "nbformat": 4,
  "nbformat_minor": 0,
  "metadata": {
    "colab": {
      "name": "2020spring.ipynb",
      "provenance": [],
      "authorship_tag": "ABX9TyNPBPxhVxWbOkgGna4Yb4GF",
      "include_colab_link": true
    },
    "kernelspec": {
      "name": "python3",
      "display_name": "Python 3"
    }
  },
  "cells": [
    {
      "cell_type": "markdown",
      "metadata": {
        "id": "view-in-github",
        "colab_type": "text"
      },
      "source": [
        "<a href=\"https://colab.research.google.com/github/Jar-Lin/20200814/blob/master/2020spring.ipynb\" target=\"_parent\"><img src=\"https://colab.research.google.com/assets/colab-badge.svg\" alt=\"Open In Colab\"/></a>"
      ]
    },
    {
      "cell_type": "code",
      "metadata": {
        "id": "Pv6gVxIa_sag",
        "colab_type": "code",
        "colab": {}
      },
      "source": [
        "a=\"66 114 101 97 107 65 76 76 67 84 70 123 65 109 118 48 117 68 121 101 114 118 80 116 109 86 114 57 83 83 83 75 125\".split(\" \")\n",
        "  \n",
        "result=''\n",
        "for x in a:\n",
        "  y=chr(int(x))\n",
        "  result+=y\n",
        "\n",
        "#result=result+y"
      ],
      "execution_count": null,
      "outputs": []
    }
  ]
}